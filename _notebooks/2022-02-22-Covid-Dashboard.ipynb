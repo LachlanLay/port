{
  "cells": [
    {
      "cell_type": "markdown",
      "id": "48d48eb2",
      "metadata": {
        "id": "48d48eb2"
      },
      "source": [
        "# COVID-19 Dashboard\n",
        "\n",
        "> A cleaning and visual representation of COVID-19 infections\n",
        "\n",
        "- toc: true\n",
        "- badges: true\n",
        "- image: images/world.png"
      ]
    },
    {
      "cell_type": "markdown",
      "source": [
        "## View the SQL code on GitHub here: https://github.com/LachlanLay/Data-Analytics-Projects.git"
      ],
      "metadata": {
        "id": "-2wuvSaCjKzF"
      },
      "id": "-2wuvSaCjKzF"
    },
    {
      "cell_type": "markdown",
      "source": [
        "## View the COVID-19 dashboard on Tableau here: https://public.tableau.com/views/COVIDDashboard_16285837064150/Dashboard1?:language=en-GB&:display_count=n&:origin=viz_share_link"
      ],
      "metadata": {
        "id": "W3xGBRGij_Zh"
      },
      "id": "W3xGBRGij_Zh"
    },
    {
      "cell_type": "code",
      "source": [
        ""
      ],
      "metadata": {
        "id": "RH6Wm67vkGdk"
      },
      "id": "RH6Wm67vkGdk",
      "execution_count": null,
      "outputs": []
    }
  ],
  "metadata": {
    "kernelspec": {
      "display_name": "Python 3 (ipykernel)",
      "language": "python",
      "name": "python3"
    },
    "language_info": {
      "codemirror_mode": {
        "name": "ipython",
        "version": 3
      },
      "file_extension": ".py",
      "mimetype": "text/x-python",
      "name": "python",
      "nbconvert_exporter": "python",
      "pygments_lexer": "ipython3",
      "version": "3.10.1"
    },
    "colab": {
      "name": "COVID-19 Infection Dashboard.ipynb",
      "provenance": []
    }
  },
  "nbformat": 4,
  "nbformat_minor": 5
}